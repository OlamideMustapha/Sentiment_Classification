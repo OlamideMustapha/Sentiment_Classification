{
 "cells": [
  {
   "cell_type": "markdown",
   "metadata": {},
   "source": [
    "`NB`: Twitter access tokens are needed to run this notebook"
   ]
  },
  {
   "cell_type": "code",
   "execution_count": 1,
   "metadata": {},
   "outputs": [],
   "source": [
    "import numpy as np\n",
    "import pandas as pd\n",
    "import tweepy\n",
    "import json\n",
    "import requests\n",
    "from datetime import datetime"
   ]
  },
  {
   "cell_type": "code",
   "execution_count": 2,
   "metadata": {},
   "outputs": [],
   "source": [
    "pd.set_option ('display.max_colwidth', None)\n",
    "pd.set_option ('display.max_columns',  None)"
   ]
  },
  {
   "cell_type": "code",
   "execution_count": 3,
   "metadata": {},
   "outputs": [],
   "source": [
    "## Reading api and access tokens\n",
    "with open ('./keys.json', 'r') as keys:\n",
    "  tokens = json.load (keys)\n",
    "\n",
    "\n",
    "api_key      = tokens ['api_key']\n",
    "access_token = tokens ['access_token']\n",
    "bearer_token = tokens ['bearer_token']\n",
    "\n",
    "access_token_secret = tokens ['access_token_secret']\n",
    "api_key_secret      = tokens ['api_key_secret']"
   ]
  },
  {
   "cell_type": "code",
   "execution_count": 4,
   "metadata": {},
   "outputs": [],
   "source": [
    "## Instantiate the client\n",
    "client = tweepy.Client(\n",
    "  bearer_token=bearer_token,\n",
    "  consumer_key=api_key,\n",
    "  consumer_secret=api_key_secret,\n",
    "  access_token=access_token,\n",
    "  access_token_secret=access_token_secret,\n",
    "  return_type=requests.Response,\n",
    "  wait_on_rate_limit=False\n",
    ")"
   ]
  },
  {
   "cell_type": "code",
   "execution_count": 5,
   "metadata": {},
   "outputs": [],
   "source": [
    "hashtags = ['GetYourPVC', 'election2023', 'NigeriaElection', 'ShowYourPVC','2023Elections', 'RevolutionNow', 'WeCantContinueLikeThis', 'Nigeria Presidential']"
   ]
  },
  {
   "cell_type": "code",
   "execution_count": 6,
   "metadata": {},
   "outputs": [
    {
     "name": "stdout",
     "output_type": "stream",
     "text": [
      "continue\n",
      "continue\n"
     ]
    }
   ],
   "source": [
    "tweets = []\n",
    "\n",
    "for hashtag in hashtags:\n",
    "  next_token = None\n",
    "  while next_token != \"\":\n",
    "    try:\n",
    "      response = client.search_recent_tweets(\n",
    "        hashtag,\n",
    "        end_time=None,\n",
    "        expansions='author_id',\n",
    "        max_results=100,\n",
    "        media_fields=None,\n",
    "        next_token=next_token,\n",
    "        place_fields=None,\n",
    "        poll_fields=None,\n",
    "        since_id=None,\n",
    "        start_time=None,\n",
    "        tweet_fields=['id','author_id','text','created_at','public_metrics'],\n",
    "        until_id=None,\n",
    "        user_fields=['username', 'location'],\n",
    "        user_auth=True,\n",
    "      )\n",
    "      data       = response.json ()\n",
    "      tweets = [*tweets, *data['data']]\n",
    "      next_token = data ['meta'].get ('next_token', \"\")\n",
    "    except (tweepy.errors.TooManyRequests):\n",
    "      start = datetime.now ()\n",
    "      while (datetime.now () - start).seconds < (16 * 60):\n",
    "        ## Pass process for 16mins\n",
    "        continue\n",
    "\n",
    "      print ('continue')\n",
    "\n",
    "      ## Continue after 16mins\n",
    "      continue\n",
    "      "
   ]
  },
  {
   "cell_type": "code",
   "execution_count": 7,
   "metadata": {},
   "outputs": [],
   "source": [
    "for i, tweet in enumerate (tweets):\n",
    "  public_metrics = tweet['public_metrics']\n",
    "  del tweet ['public_metrics']\n",
    "  tweets [i] = {**tweet, **public_metrics}"
   ]
  },
  {
   "cell_type": "code",
   "execution_count": 8,
   "metadata": {},
   "outputs": [
    {
     "data": {
      "text/plain": [
       "40131"
      ]
     },
     "execution_count": 8,
     "metadata": {},
     "output_type": "execute_result"
    }
   ],
   "source": [
    "len (tweets)"
   ]
  },
  {
   "cell_type": "code",
   "execution_count": 9,
   "metadata": {},
   "outputs": [
    {
     "data": {
      "text/plain": [
       "29241"
      ]
     },
     "execution_count": 9,
     "metadata": {},
     "output_type": "execute_result"
    }
   ],
   "source": [
    "df = pd.DataFrame (tweets)\n",
    "df.duplicated ('text').sum ()"
   ]
  },
  {
   "cell_type": "code",
   "execution_count": 10,
   "metadata": {},
   "outputs": [
    {
     "data": {
      "text/html": [
       "<div>\n",
       "<style scoped>\n",
       "    .dataframe tbody tr th:only-of-type {\n",
       "        vertical-align: middle;\n",
       "    }\n",
       "\n",
       "    .dataframe tbody tr th {\n",
       "        vertical-align: top;\n",
       "    }\n",
       "\n",
       "    .dataframe thead th {\n",
       "        text-align: right;\n",
       "    }\n",
       "</style>\n",
       "<table border=\"1\" class=\"dataframe\">\n",
       "  <thead>\n",
       "    <tr style=\"text-align: right;\">\n",
       "      <th></th>\n",
       "      <th>id</th>\n",
       "      <th>text</th>\n",
       "      <th>author_id</th>\n",
       "      <th>created_at</th>\n",
       "      <th>retweet_count</th>\n",
       "      <th>reply_count</th>\n",
       "      <th>like_count</th>\n",
       "      <th>quote_count</th>\n",
       "      <th>withheld</th>\n",
       "    </tr>\n",
       "  </thead>\n",
       "  <tbody>\n",
       "    <tr>\n",
       "      <th>0</th>\n",
       "      <td>1525622531327242242</td>\n",
       "      <td>RT @Flawlex2: If you came out for EndSars protests and marching, then this is the right time to march again and make you march count. Let's…</td>\n",
       "      <td>1573327596</td>\n",
       "      <td>2022-05-14T23:42:10.000Z</td>\n",
       "      <td>22</td>\n",
       "      <td>0</td>\n",
       "      <td>0</td>\n",
       "      <td>0</td>\n",
       "      <td>NaN</td>\n",
       "    </tr>\n",
       "    <tr>\n",
       "      <th>1</th>\n",
       "      <td>1525620603805392897</td>\n",
       "      <td>RT @Flawlex2: If you came out for EndSars protests and marching, then this is the right time to march again and make you march count. Let's…</td>\n",
       "      <td>1607860832</td>\n",
       "      <td>2022-05-14T23:34:31.000Z</td>\n",
       "      <td>22</td>\n",
       "      <td>0</td>\n",
       "      <td>0</td>\n",
       "      <td>0</td>\n",
       "      <td>NaN</td>\n",
       "    </tr>\n",
       "    <tr>\n",
       "      <th>2</th>\n",
       "      <td>1525616708744105989</td>\n",
       "      <td>RT @Flawlex2: If you came out for EndSars protests and marching, then this is the right time to march again and make you march count. Let's…</td>\n",
       "      <td>1254880591511719936</td>\n",
       "      <td>2022-05-14T23:19:02.000Z</td>\n",
       "      <td>22</td>\n",
       "      <td>0</td>\n",
       "      <td>0</td>\n",
       "      <td>0</td>\n",
       "      <td>NaN</td>\n",
       "    </tr>\n",
       "    <tr>\n",
       "      <th>3</th>\n",
       "      <td>1525615669265543168</td>\n",
       "      <td>RT @obilo1: Hear what late Dora Akunyeli said about Peter Obi.. \\n\\n#GetYourPVC\\n#peterObi2023 https://t.co/fDOP2QvfzX</td>\n",
       "      <td>270844470</td>\n",
       "      <td>2022-05-14T23:14:54.000Z</td>\n",
       "      <td>50</td>\n",
       "      <td>0</td>\n",
       "      <td>0</td>\n",
       "      <td>0</td>\n",
       "      <td>NaN</td>\n",
       "    </tr>\n",
       "    <tr>\n",
       "      <th>4</th>\n",
       "      <td>1525615294483468290</td>\n",
       "      <td>RT @Flawlex2: If you came out for EndSars protests and marching, then this is the right time to march again and make you march count. Let's…</td>\n",
       "      <td>1256238250441793536</td>\n",
       "      <td>2022-05-14T23:13:25.000Z</td>\n",
       "      <td>22</td>\n",
       "      <td>0</td>\n",
       "      <td>0</td>\n",
       "      <td>0</td>\n",
       "      <td>NaN</td>\n",
       "    </tr>\n",
       "  </tbody>\n",
       "</table>\n",
       "</div>"
      ],
      "text/plain": [
       "                    id  \\\n",
       "0  1525622531327242242   \n",
       "1  1525620603805392897   \n",
       "2  1525616708744105989   \n",
       "3  1525615669265543168   \n",
       "4  1525615294483468290   \n",
       "\n",
       "                                                                                                                                           text  \\\n",
       "0  RT @Flawlex2: If you came out for EndSars protests and marching, then this is the right time to march again and make you march count. Let's…   \n",
       "1  RT @Flawlex2: If you came out for EndSars protests and marching, then this is the right time to march again and make you march count. Let's…   \n",
       "2  RT @Flawlex2: If you came out for EndSars protests and marching, then this is the right time to march again and make you march count. Let's…   \n",
       "3                        RT @obilo1: Hear what late Dora Akunyeli said about Peter Obi.. \\n\\n#GetYourPVC\\n#peterObi2023 https://t.co/fDOP2QvfzX   \n",
       "4  RT @Flawlex2: If you came out for EndSars protests and marching, then this is the right time to march again and make you march count. Let's…   \n",
       "\n",
       "             author_id                created_at  retweet_count  reply_count  \\\n",
       "0           1573327596  2022-05-14T23:42:10.000Z             22            0   \n",
       "1           1607860832  2022-05-14T23:34:31.000Z             22            0   \n",
       "2  1254880591511719936  2022-05-14T23:19:02.000Z             22            0   \n",
       "3            270844470  2022-05-14T23:14:54.000Z             50            0   \n",
       "4  1256238250441793536  2022-05-14T23:13:25.000Z             22            0   \n",
       "\n",
       "   like_count  quote_count withheld  \n",
       "0           0            0      NaN  \n",
       "1           0            0      NaN  \n",
       "2           0            0      NaN  \n",
       "3           0            0      NaN  \n",
       "4           0            0      NaN  "
      ]
     },
     "execution_count": 10,
     "metadata": {},
     "output_type": "execute_result"
    }
   ],
   "source": [
    "df.head ()"
   ]
  },
  {
   "cell_type": "code",
   "execution_count": 11,
   "metadata": {},
   "outputs": [],
   "source": [
    "# df_2.drop_duplicates ('text').to_csv ('../Data/data_process_2.csv')"
   ]
  },
  {
   "cell_type": "code",
   "execution_count": 12,
   "metadata": {},
   "outputs": [],
   "source": [
    "# df.drop_duplicates ('text').to_csv ('../../Temp/150522_TWEETS.csv', index=False)"
   ]
  },
  {
   "cell_type": "code",
   "execution_count": 21,
   "metadata": {},
   "outputs": [
    {
     "data": {
      "text/plain": [
       "(10890, 9)"
      ]
     },
     "execution_count": 21,
     "metadata": {},
     "output_type": "execute_result"
    }
   ],
   "source": [
    "df.shape"
   ]
  },
  {
   "cell_type": "code",
   "execution_count": 13,
   "metadata": {},
   "outputs": [],
   "source": [
    "final_df = pd.read_csv ('../../Data/NG_ELECTION_TWEETS.csv')"
   ]
  },
  {
   "cell_type": "code",
   "execution_count": 25,
   "metadata": {},
   "outputs": [
    {
     "data": {
      "text/html": [
       "<div>\n",
       "<style scoped>\n",
       "    .dataframe tbody tr th:only-of-type {\n",
       "        vertical-align: middle;\n",
       "    }\n",
       "\n",
       "    .dataframe tbody tr th {\n",
       "        vertical-align: top;\n",
       "    }\n",
       "\n",
       "    .dataframe thead th {\n",
       "        text-align: right;\n",
       "    }\n",
       "</style>\n",
       "<table border=\"1\" class=\"dataframe\">\n",
       "  <thead>\n",
       "    <tr style=\"text-align: right;\">\n",
       "      <th></th>\n",
       "      <th>id</th>\n",
       "      <th>text</th>\n",
       "      <th>created_at</th>\n",
       "      <th>author_id</th>\n",
       "      <th>retweet_count</th>\n",
       "      <th>reply_count</th>\n",
       "      <th>like_count</th>\n",
       "      <th>quote_count</th>\n",
       "    </tr>\n",
       "  </thead>\n",
       "  <tbody>\n",
       "    <tr>\n",
       "      <th>0</th>\n",
       "      <td>1507404536511565825</td>\n",
       "      <td>RT @AtedoPeterside: Nobody \"says\" it better than our GoAmbassador @mrmacaronii. Take matters into your own hands by acquiring your PVC now.…</td>\n",
       "      <td>2022-03-25T17:10:22.000Z</td>\n",
       "      <td>1220591726731124736</td>\n",
       "      <td>24</td>\n",
       "      <td>0</td>\n",
       "      <td>0</td>\n",
       "      <td>0</td>\n",
       "    </tr>\n",
       "    <tr>\n",
       "      <th>1</th>\n",
       "      <td>1507403883924103170</td>\n",
       "      <td>RT @1dernet: Getting Our PVC And Registering To Vote Come 2023 Is The Nonviolent Part To Take.\\n#GetYourPVC \\n@DeleFarotimi \\n@Tsngcampaign ht…</td>\n",
       "      <td>2022-03-25T17:07:46.000Z</td>\n",
       "      <td>1169272207014543360</td>\n",
       "      <td>19</td>\n",
       "      <td>0</td>\n",
       "      <td>0</td>\n",
       "      <td>0</td>\n",
       "    </tr>\n",
       "    <tr>\n",
       "      <th>2</th>\n",
       "      <td>1507403359040544775</td>\n",
       "      <td>RT @Chude__: Hear what late Dora Akunyeli said about Peter Obi.. \\n\\n#GetYourPVC\\n#Competense2023\\n#peterObi2023 https://t.co/L0u1FqY4dB</td>\n",
       "      <td>2022-03-25T17:05:41.000Z</td>\n",
       "      <td>1387165423083433985</td>\n",
       "      <td>72</td>\n",
       "      <td>0</td>\n",
       "      <td>0</td>\n",
       "      <td>0</td>\n",
       "    </tr>\n",
       "    <tr>\n",
       "      <th>3</th>\n",
       "      <td>1507402890121465859</td>\n",
       "      <td>RT @obi_Nwosu: Do you want a better Nigeria? Who is your dream president? Please note, You will be needing a voters card to vote for him or…</td>\n",
       "      <td>2022-03-25T17:03:49.000Z</td>\n",
       "      <td>1119585791146168327</td>\n",
       "      <td>29</td>\n",
       "      <td>0</td>\n",
       "      <td>0</td>\n",
       "      <td>0</td>\n",
       "    </tr>\n",
       "    <tr>\n",
       "      <th>4</th>\n",
       "      <td>1507400790285111299</td>\n",
       "      <td>#GoNigeria #GetYourPVC https://t.co/Oq5ZqTE8fg</td>\n",
       "      <td>2022-03-25T16:55:29.000Z</td>\n",
       "      <td>1313043015917801472</td>\n",
       "      <td>0</td>\n",
       "      <td>0</td>\n",
       "      <td>0</td>\n",
       "      <td>0</td>\n",
       "    </tr>\n",
       "  </tbody>\n",
       "</table>\n",
       "</div>"
      ],
      "text/plain": [
       "                    id  \\\n",
       "0  1507404536511565825   \n",
       "1  1507403883924103170   \n",
       "2  1507403359040544775   \n",
       "3  1507402890121465859   \n",
       "4  1507400790285111299   \n",
       "\n",
       "                                                                                                                                              text  \\\n",
       "0     RT @AtedoPeterside: Nobody \"says\" it better than our GoAmbassador @mrmacaronii. Take matters into your own hands by acquiring your PVC now.…   \n",
       "1  RT @1dernet: Getting Our PVC And Registering To Vote Come 2023 Is The Nonviolent Part To Take.\\n#GetYourPVC \\n@DeleFarotimi \\n@Tsngcampaign ht…   \n",
       "2         RT @Chude__: Hear what late Dora Akunyeli said about Peter Obi.. \\n\\n#GetYourPVC\\n#Competense2023\\n#peterObi2023 https://t.co/L0u1FqY4dB   \n",
       "3     RT @obi_Nwosu: Do you want a better Nigeria? Who is your dream president? Please note, You will be needing a voters card to vote for him or…   \n",
       "4                                                                                                   #GoNigeria #GetYourPVC https://t.co/Oq5ZqTE8fg   \n",
       "\n",
       "                 created_at            author_id  retweet_count  reply_count  \\\n",
       "0  2022-03-25T17:10:22.000Z  1220591726731124736             24            0   \n",
       "1  2022-03-25T17:07:46.000Z  1169272207014543360             19            0   \n",
       "2  2022-03-25T17:05:41.000Z  1387165423083433985             72            0   \n",
       "3  2022-03-25T17:03:49.000Z  1119585791146168327             29            0   \n",
       "4  2022-03-25T16:55:29.000Z  1313043015917801472              0            0   \n",
       "\n",
       "   like_count  quote_count  \n",
       "0           0            0  \n",
       "1           0            0  \n",
       "2           0            0  \n",
       "3           0            0  \n",
       "4           0            0  "
      ]
     },
     "execution_count": 25,
     "metadata": {},
     "output_type": "execute_result"
    }
   ],
   "source": [
    "final_df.head()"
   ]
  },
  {
   "cell_type": "code",
   "execution_count": 15,
   "metadata": {},
   "outputs": [],
   "source": [
    "df.drop_duplicates ('text', inplace=True)"
   ]
  },
  {
   "cell_type": "code",
   "execution_count": 16,
   "metadata": {},
   "outputs": [],
   "source": [
    "final = pd.concat ([final_df, df], axis='rows')"
   ]
  },
  {
   "cell_type": "code",
   "execution_count": 26,
   "metadata": {},
   "outputs": [
    {
     "data": {
      "text/plain": [
       "(23437, 9)"
      ]
     },
     "execution_count": 26,
     "metadata": {},
     "output_type": "execute_result"
    }
   ],
   "source": [
    "final.shape"
   ]
  },
  {
   "cell_type": "code",
   "execution_count": 24,
   "metadata": {},
   "outputs": [
    {
     "data": {
      "text/html": [
       "<div>\n",
       "<style scoped>\n",
       "    .dataframe tbody tr th:only-of-type {\n",
       "        vertical-align: middle;\n",
       "    }\n",
       "\n",
       "    .dataframe tbody tr th {\n",
       "        vertical-align: top;\n",
       "    }\n",
       "\n",
       "    .dataframe thead th {\n",
       "        text-align: right;\n",
       "    }\n",
       "</style>\n",
       "<table border=\"1\" class=\"dataframe\">\n",
       "  <thead>\n",
       "    <tr style=\"text-align: right;\">\n",
       "      <th></th>\n",
       "      <th>id</th>\n",
       "      <th>text</th>\n",
       "      <th>created_at</th>\n",
       "      <th>author_id</th>\n",
       "      <th>retweet_count</th>\n",
       "      <th>reply_count</th>\n",
       "      <th>like_count</th>\n",
       "      <th>quote_count</th>\n",
       "      <th>withheld</th>\n",
       "    </tr>\n",
       "  </thead>\n",
       "  <tbody>\n",
       "    <tr>\n",
       "      <th>0</th>\n",
       "      <td>1507404536511565825</td>\n",
       "      <td>RT @AtedoPeterside: Nobody \"says\" it better than our GoAmbassador @mrmacaronii. Take matters into your own hands by acquiring your PVC now.…</td>\n",
       "      <td>2022-03-25T17:10:22.000Z</td>\n",
       "      <td>1220591726731124736</td>\n",
       "      <td>24</td>\n",
       "      <td>0</td>\n",
       "      <td>0</td>\n",
       "      <td>0</td>\n",
       "      <td>NaN</td>\n",
       "    </tr>\n",
       "    <tr>\n",
       "      <th>1</th>\n",
       "      <td>1507403883924103170</td>\n",
       "      <td>RT @1dernet: Getting Our PVC And Registering To Vote Come 2023 Is The Nonviolent Part To Take.\\n#GetYourPVC \\n@DeleFarotimi \\n@Tsngcampaign ht…</td>\n",
       "      <td>2022-03-25T17:07:46.000Z</td>\n",
       "      <td>1169272207014543360</td>\n",
       "      <td>19</td>\n",
       "      <td>0</td>\n",
       "      <td>0</td>\n",
       "      <td>0</td>\n",
       "      <td>NaN</td>\n",
       "    </tr>\n",
       "    <tr>\n",
       "      <th>2</th>\n",
       "      <td>1507403359040544775</td>\n",
       "      <td>RT @Chude__: Hear what late Dora Akunyeli said about Peter Obi.. \\n\\n#GetYourPVC\\n#Competense2023\\n#peterObi2023 https://t.co/L0u1FqY4dB</td>\n",
       "      <td>2022-03-25T17:05:41.000Z</td>\n",
       "      <td>1387165423083433985</td>\n",
       "      <td>72</td>\n",
       "      <td>0</td>\n",
       "      <td>0</td>\n",
       "      <td>0</td>\n",
       "      <td>NaN</td>\n",
       "    </tr>\n",
       "    <tr>\n",
       "      <th>3</th>\n",
       "      <td>1507402890121465859</td>\n",
       "      <td>RT @obi_Nwosu: Do you want a better Nigeria? Who is your dream president? Please note, You will be needing a voters card to vote for him or…</td>\n",
       "      <td>2022-03-25T17:03:49.000Z</td>\n",
       "      <td>1119585791146168327</td>\n",
       "      <td>29</td>\n",
       "      <td>0</td>\n",
       "      <td>0</td>\n",
       "      <td>0</td>\n",
       "      <td>NaN</td>\n",
       "    </tr>\n",
       "    <tr>\n",
       "      <th>4</th>\n",
       "      <td>1507400790285111299</td>\n",
       "      <td>#GoNigeria #GetYourPVC https://t.co/Oq5ZqTE8fg</td>\n",
       "      <td>2022-03-25T16:55:29.000Z</td>\n",
       "      <td>1313043015917801472</td>\n",
       "      <td>0</td>\n",
       "      <td>0</td>\n",
       "      <td>0</td>\n",
       "      <td>0</td>\n",
       "      <td>NaN</td>\n",
       "    </tr>\n",
       "  </tbody>\n",
       "</table>\n",
       "</div>"
      ],
      "text/plain": [
       "                    id  \\\n",
       "0  1507404536511565825   \n",
       "1  1507403883924103170   \n",
       "2  1507403359040544775   \n",
       "3  1507402890121465859   \n",
       "4  1507400790285111299   \n",
       "\n",
       "                                                                                                                                              text  \\\n",
       "0     RT @AtedoPeterside: Nobody \"says\" it better than our GoAmbassador @mrmacaronii. Take matters into your own hands by acquiring your PVC now.…   \n",
       "1  RT @1dernet: Getting Our PVC And Registering To Vote Come 2023 Is The Nonviolent Part To Take.\\n#GetYourPVC \\n@DeleFarotimi \\n@Tsngcampaign ht…   \n",
       "2         RT @Chude__: Hear what late Dora Akunyeli said about Peter Obi.. \\n\\n#GetYourPVC\\n#Competense2023\\n#peterObi2023 https://t.co/L0u1FqY4dB   \n",
       "3     RT @obi_Nwosu: Do you want a better Nigeria? Who is your dream president? Please note, You will be needing a voters card to vote for him or…   \n",
       "4                                                                                                   #GoNigeria #GetYourPVC https://t.co/Oq5ZqTE8fg   \n",
       "\n",
       "                 created_at            author_id  retweet_count  reply_count  \\\n",
       "0  2022-03-25T17:10:22.000Z  1220591726731124736             24            0   \n",
       "1  2022-03-25T17:07:46.000Z  1169272207014543360             19            0   \n",
       "2  2022-03-25T17:05:41.000Z  1387165423083433985             72            0   \n",
       "3  2022-03-25T17:03:49.000Z  1119585791146168327             29            0   \n",
       "4  2022-03-25T16:55:29.000Z  1313043015917801472              0            0   \n",
       "\n",
       "   like_count  quote_count withheld  \n",
       "0           0            0      NaN  \n",
       "1           0            0      NaN  \n",
       "2           0            0      NaN  \n",
       "3           0            0      NaN  \n",
       "4           0            0      NaN  "
      ]
     },
     "execution_count": 24,
     "metadata": {},
     "output_type": "execute_result"
    }
   ],
   "source": [
    "final.head()"
   ]
  },
  {
   "cell_type": "code",
   "execution_count": 17,
   "metadata": {},
   "outputs": [],
   "source": [
    "\n",
    "## Writing data out to a temporary folder.\n",
    "final.drop_duplicates ('text', inplace=True)\n",
    "final.to_csv ('../../Data/NG_ELECTION_TWEETS.csv')"
   ]
  },
  {
   "cell_type": "code",
   "execution_count": 19,
   "metadata": {},
   "outputs": [],
   "source": [
    "# import os\n",
    "\n",
    "\n",
    "# file_ls = os.listdir ('../../Temp')\n",
    "\n",
    "# ## Check if excel file containing all tweets exist, if not create a new data frame else read the existing dataframe\n",
    "# tweets_df = pd.DataFrame () if 'NG_ELECTION_TWEETS.csv' not in file_ls else pd.read_csv ('../Data/NG_ELECTION_TWEETS.csv')\n",
    "\n",
    "# for file in file_ls:\n",
    "#   if file.endswith ('.csv') and 'CLEANED' not in file and not file.startswith ('NG_ELECTION'):\n",
    "#     tweets_df = pd.concat ([tweets_df, pd.read_csv (f'../Data/{file}')])\n",
    "\n",
    "\n",
    "# # tweets_df.drop ('Unnamed: 0', axis=1, inplace=True)\n",
    "# tweets_df.drop_duplicates ('text', inplace=True)\n",
    "# tweets_df.to_csv ('../Data/NG_ELECTION_TWEETS.csv', index=False)\n"
   ]
  }
 ],
 "metadata": {
  "interpreter": {
   "hash": "f571141c76525133f3e4c7bf9d670f19b99725fb293016e32e1a5a61960e7f7e"
  },
  "kernelspec": {
   "display_name": "Python 3.9.10 ('base')",
   "language": "python",
   "name": "python3"
  },
  "language_info": {
   "codemirror_mode": {
    "name": "ipython",
    "version": 3
   },
   "file_extension": ".py",
   "mimetype": "text/x-python",
   "name": "python",
   "nbconvert_exporter": "python",
   "pygments_lexer": "ipython3",
   "version": "3.9.12"
  },
  "orig_nbformat": 4
 },
 "nbformat": 4,
 "nbformat_minor": 2
}
