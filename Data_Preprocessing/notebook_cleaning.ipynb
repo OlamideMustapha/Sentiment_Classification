{
 "cells": [
  {
   "cell_type": "code",
   "execution_count": 22,
   "metadata": {},
   "outputs": [
    {
     "name": "stderr",
     "output_type": "stream",
     "text": [
      "[nltk_data] Downloading package punkt to /Users/kunmi/nltk_data...\n",
      "[nltk_data]   Package punkt is already up-to-date!\n",
      "[nltk_data] Downloading package stopwords to /Users/kunmi/nltk_data...\n",
      "[nltk_data]   Package stopwords is already up-to-date!\n",
      "[nltk_data] Downloading package wordnet to /Users/kunmi/nltk_data...\n",
      "[nltk_data]   Package wordnet is already up-to-date!\n"
     ]
    }
   ],
   "source": [
    "import re\n",
    "from IPython.display import display\n",
    "\n",
    "import numpy as np\n",
    "import pandas as pd\n",
    "from bs4 import BeautifulSoup\n",
    "\n",
    "\n",
    "import nltk\n",
    "from nltk.stem import WordNetLemmatizer\n",
    "from nltk.corpus import stopwords\n",
    "# from tqdm.notebook import tqdm\n",
    "from tqdm import tqdm\n",
    "\n",
    "pd.set_option ('display.max_colwidth', None)\n",
    "pd.set_option ('display.max_columns', None)\n",
    "\n",
    "nltk.download ('punkt')\n",
    "nltk.download ('stopwords')\n",
    "nltk.download ('wordnet')\n",
    "\n",
    "import warnings\n",
    "warnings.filterwarnings(\"ignore\", category=UserWarning, module='bs4')"
   ]
  },
  {
   "cell_type": "code",
   "execution_count": 2,
   "metadata": {},
   "outputs": [
    {
     "data": {
      "text/html": [
       "<div>\n",
       "<style scoped>\n",
       "    .dataframe tbody tr th:only-of-type {\n",
       "        vertical-align: middle;\n",
       "    }\n",
       "\n",
       "    .dataframe tbody tr th {\n",
       "        vertical-align: top;\n",
       "    }\n",
       "\n",
       "    .dataframe thead th {\n",
       "        text-align: right;\n",
       "    }\n",
       "</style>\n",
       "<table border=\"1\" class=\"dataframe\">\n",
       "  <thead>\n",
       "    <tr style=\"text-align: right;\">\n",
       "      <th></th>\n",
       "      <th>Unnamed: 0</th>\n",
       "      <th>id</th>\n",
       "      <th>text</th>\n",
       "      <th>created_at</th>\n",
       "      <th>author_id</th>\n",
       "      <th>retweet_count</th>\n",
       "      <th>reply_count</th>\n",
       "      <th>like_count</th>\n",
       "      <th>quote_count</th>\n",
       "      <th>withheld</th>\n",
       "    </tr>\n",
       "  </thead>\n",
       "  <tbody>\n",
       "    <tr>\n",
       "      <th>0</th>\n",
       "      <td>0</td>\n",
       "      <td>1507404536511565825</td>\n",
       "      <td>RT @AtedoPeterside: Nobody \"says\" it better than our GoAmbassador @mrmacaronii. Take matters into your own hands by acquiring your PVC now.…</td>\n",
       "      <td>2022-03-25T17:10:22.000Z</td>\n",
       "      <td>1220591726731124736</td>\n",
       "      <td>24</td>\n",
       "      <td>0</td>\n",
       "      <td>0</td>\n",
       "      <td>0</td>\n",
       "      <td>NaN</td>\n",
       "    </tr>\n",
       "    <tr>\n",
       "      <th>1</th>\n",
       "      <td>1</td>\n",
       "      <td>1507403883924103170</td>\n",
       "      <td>RT @1dernet: Getting Our PVC And Registering To Vote Come 2023 Is The Nonviolent Part To Take.\\n#GetYourPVC \\n@DeleFarotimi \\n@Tsngcampaign ht…</td>\n",
       "      <td>2022-03-25T17:07:46.000Z</td>\n",
       "      <td>1169272207014543360</td>\n",
       "      <td>19</td>\n",
       "      <td>0</td>\n",
       "      <td>0</td>\n",
       "      <td>0</td>\n",
       "      <td>NaN</td>\n",
       "    </tr>\n",
       "    <tr>\n",
       "      <th>2</th>\n",
       "      <td>2</td>\n",
       "      <td>1507403359040544775</td>\n",
       "      <td>RT @Chude__: Hear what late Dora Akunyeli said about Peter Obi.. \\n\\n#GetYourPVC\\n#Competense2023\\n#peterObi2023 https://t.co/L0u1FqY4dB</td>\n",
       "      <td>2022-03-25T17:05:41.000Z</td>\n",
       "      <td>1387165423083433985</td>\n",
       "      <td>72</td>\n",
       "      <td>0</td>\n",
       "      <td>0</td>\n",
       "      <td>0</td>\n",
       "      <td>NaN</td>\n",
       "    </tr>\n",
       "  </tbody>\n",
       "</table>\n",
       "</div>"
      ],
      "text/plain": [
       "   Unnamed: 0                   id  \\\n",
       "0           0  1507404536511565825   \n",
       "1           1  1507403883924103170   \n",
       "2           2  1507403359040544775   \n",
       "\n",
       "                                                                                                                                              text  \\\n",
       "0     RT @AtedoPeterside: Nobody \"says\" it better than our GoAmbassador @mrmacaronii. Take matters into your own hands by acquiring your PVC now.…   \n",
       "1  RT @1dernet: Getting Our PVC And Registering To Vote Come 2023 Is The Nonviolent Part To Take.\\n#GetYourPVC \\n@DeleFarotimi \\n@Tsngcampaign ht…   \n",
       "2         RT @Chude__: Hear what late Dora Akunyeli said about Peter Obi.. \\n\\n#GetYourPVC\\n#Competense2023\\n#peterObi2023 https://t.co/L0u1FqY4dB   \n",
       "\n",
       "                 created_at            author_id  retweet_count  reply_count  \\\n",
       "0  2022-03-25T17:10:22.000Z  1220591726731124736             24            0   \n",
       "1  2022-03-25T17:07:46.000Z  1169272207014543360             19            0   \n",
       "2  2022-03-25T17:05:41.000Z  1387165423083433985             72            0   \n",
       "\n",
       "   like_count  quote_count withheld  \n",
       "0           0            0      NaN  \n",
       "1           0            0      NaN  \n",
       "2           0            0      NaN  "
      ]
     },
     "execution_count": 2,
     "metadata": {},
     "output_type": "execute_result"
    }
   ],
   "source": [
    "df = pd.read_csv ('../Data/NG_ELECTION_TWEETS.csv')\n",
    "df.head (3)"
   ]
  },
  {
   "cell_type": "code",
   "execution_count": 3,
   "metadata": {},
   "outputs": [
    {
     "data": {
      "text/plain": [
       "(23437, 10)"
      ]
     },
     "execution_count": 3,
     "metadata": {},
     "output_type": "execute_result"
    }
   ],
   "source": [
    "df.shape"
   ]
  },
  {
   "cell_type": "code",
   "execution_count": 4,
   "metadata": {},
   "outputs": [],
   "source": [
    "from vaderSentiment.vaderSentiment import SentimentIntensityAnalyzer\n",
    "\n",
    "analyzer = SentimentIntensityAnalyzer ()\n",
    "\n",
    "def get_sentiment (tweet):\n",
    "  polarity_score = analyzer.polarity_scores (tweet) ['compound']\n",
    "  sentiment      = 'Positive' if polarity_score >= 0.05 \\\n",
    "              else 'Neutral'  if polarity_score > -0.05 else 'Negative'\n",
    "  return sentiment\n",
    "\n",
    "df ['Sentiment'] = df ['text'].map (get_sentiment)"
   ]
  },
  {
   "cell_type": "code",
   "execution_count": 5,
   "metadata": {},
   "outputs": [],
   "source": [
    "df.to_csv ('../Data/preprocessed/NG_ELECTION_TWEETS_LABELLED.csv', index=False)"
   ]
  },
  {
   "cell_type": "code",
   "execution_count": 6,
   "metadata": {},
   "outputs": [
    {
     "data": {
      "text/html": [
       "<div>\n",
       "<style scoped>\n",
       "    .dataframe tbody tr th:only-of-type {\n",
       "        vertical-align: middle;\n",
       "    }\n",
       "\n",
       "    .dataframe tbody tr th {\n",
       "        vertical-align: top;\n",
       "    }\n",
       "\n",
       "    .dataframe thead th {\n",
       "        text-align: right;\n",
       "    }\n",
       "</style>\n",
       "<table border=\"1\" class=\"dataframe\">\n",
       "  <thead>\n",
       "    <tr style=\"text-align: right;\">\n",
       "      <th></th>\n",
       "      <th>Unnamed: 0</th>\n",
       "      <th>id</th>\n",
       "      <th>text</th>\n",
       "      <th>created_at</th>\n",
       "      <th>author_id</th>\n",
       "      <th>retweet_count</th>\n",
       "      <th>reply_count</th>\n",
       "      <th>like_count</th>\n",
       "      <th>quote_count</th>\n",
       "      <th>withheld</th>\n",
       "      <th>Sentiment</th>\n",
       "    </tr>\n",
       "  </thead>\n",
       "  <tbody>\n",
       "    <tr>\n",
       "      <th>0</th>\n",
       "      <td>0</td>\n",
       "      <td>1507404536511565825</td>\n",
       "      <td>RT @AtedoPeterside: Nobody \"says\" it better than our GoAmbassador @mrmacaronii. Take matters into your own hands by acquiring your PVC now.…</td>\n",
       "      <td>2022-03-25T17:10:22.000Z</td>\n",
       "      <td>1220591726731124736</td>\n",
       "      <td>24</td>\n",
       "      <td>0</td>\n",
       "      <td>0</td>\n",
       "      <td>0</td>\n",
       "      <td>NaN</td>\n",
       "      <td>Positive</td>\n",
       "    </tr>\n",
       "    <tr>\n",
       "      <th>1</th>\n",
       "      <td>1</td>\n",
       "      <td>1507403883924103170</td>\n",
       "      <td>RT @1dernet: Getting Our PVC And Registering To Vote Come 2023 Is The Nonviolent Part To Take.\\n#GetYourPVC \\n@DeleFarotimi \\n@Tsngcampaign ht…</td>\n",
       "      <td>2022-03-25T17:07:46.000Z</td>\n",
       "      <td>1169272207014543360</td>\n",
       "      <td>19</td>\n",
       "      <td>0</td>\n",
       "      <td>0</td>\n",
       "      <td>0</td>\n",
       "      <td>NaN</td>\n",
       "      <td>Neutral</td>\n",
       "    </tr>\n",
       "  </tbody>\n",
       "</table>\n",
       "</div>"
      ],
      "text/plain": [
       "   Unnamed: 0                   id  \\\n",
       "0           0  1507404536511565825   \n",
       "1           1  1507403883924103170   \n",
       "\n",
       "                                                                                                                                              text  \\\n",
       "0     RT @AtedoPeterside: Nobody \"says\" it better than our GoAmbassador @mrmacaronii. Take matters into your own hands by acquiring your PVC now.…   \n",
       "1  RT @1dernet: Getting Our PVC And Registering To Vote Come 2023 Is The Nonviolent Part To Take.\\n#GetYourPVC \\n@DeleFarotimi \\n@Tsngcampaign ht…   \n",
       "\n",
       "                 created_at            author_id  retweet_count  reply_count  \\\n",
       "0  2022-03-25T17:10:22.000Z  1220591726731124736             24            0   \n",
       "1  2022-03-25T17:07:46.000Z  1169272207014543360             19            0   \n",
       "\n",
       "   like_count  quote_count withheld Sentiment  \n",
       "0           0            0      NaN  Positive  \n",
       "1           0            0      NaN   Neutral  "
      ]
     },
     "execution_count": 6,
     "metadata": {},
     "output_type": "execute_result"
    }
   ],
   "source": [
    "df.head (2)"
   ]
  },
  {
   "cell_type": "code",
   "execution_count": 7,
   "metadata": {},
   "outputs": [
    {
     "data": {
      "text/plain": [
       "3"
      ]
     },
     "execution_count": 7,
     "metadata": {},
     "output_type": "execute_result"
    }
   ],
   "source": [
    "df.Sentiment.nunique ()"
   ]
  },
  {
   "cell_type": "code",
   "execution_count": 8,
   "metadata": {},
   "outputs": [
    {
     "data": {
      "text/plain": [
       "Positive    8747\n",
       "Neutral     8573\n",
       "Negative    6117\n",
       "Name: Sentiment, dtype: int64"
      ]
     },
     "execution_count": 8,
     "metadata": {},
     "output_type": "execute_result"
    }
   ],
   "source": [
    "df.Sentiment.value_counts ()"
   ]
  },
  {
   "cell_type": "code",
   "execution_count": 9,
   "metadata": {},
   "outputs": [],
   "source": [
    "def custom_cleaner (tweet):\n",
    "  soup    = BeautifulSoup (tweet, 'lxml') # removing HTML entities such as '&amp', '&quot', '&gt'; lxml is the html parser\n",
    "  souped  = soup.get_text ()\n",
    "  link_re = r\"(?i)\\b((?:https?://|www\\d{0,3}[.]|[a-z0-9.\\-]+[.][a-z]{2,4}/)(?:[^\\s()<>]+|\\(([^\\s()<>]+|(\\([^\\s()<>]+\\)))*\\))+(?:\\(([^\\s()<>]+|(\\([^\\s()<>]+\\)))*\\)|[^\\s`!()\\[\\]{};:'\\\".,<>?«»“”‘’]))\"\n",
    "  re_ = re.sub (link_re, \"\", souped)\n",
    "  re_ = re.sub (r\"#\\S*\", \"\", re_)       # Replace all hashtags with an empty string\n",
    "  re_ = re.sub (\"RT @\\S*\", \" \", re_)    # Removing user names\n",
    "  re_ = re.sub (r\"[^A-Za-z]+\", \" \", re_) # sustituting any non-alphabetic character that repeats one or more time\n",
    "\n",
    "  tokens     = nltk.word_tokenize (re_)\n",
    "  lower_case = [t.lower () for t in tokens]\n",
    "\n",
    "  stop_words      = set (stopwords.words ('english'))\n",
    "  filtered_result = list (filter (lambda l: l not in stop_words, lower_case))\n",
    "\n",
    "  wordnet_lemmatizer = WordNetLemmatizer ()\n",
    "  lemmas             = [wordnet_lemmatizer.lemmatize (t) for t in filtered_result]\n",
    "\n",
    "  return lemmas"
   ]
  },
  {
   "cell_type": "code",
   "execution_count": 23,
   "metadata": {},
   "outputs": [
    {
     "name": "stderr",
     "output_type": "stream",
     "text": [
      "100%|\u001b[30m██████████\u001b[0m| 18301/18301 [00:13<00:00, 1359.26it/s]\n"
     ]
    }
   ],
   "source": [
    "tqdm.pandas ()\n",
    "\n",
    "for row, col  in tqdm(df['text'].iteritems (), total=df.shape[0]):\n",
    "  df.loc[row, 'cleaned_tweet'] =  ' '.join (custom_cleaner (col))"
   ]
  },
  {
   "cell_type": "code",
   "execution_count": 11,
   "metadata": {},
   "outputs": [
    {
     "data": {
      "text/html": [
       "<div>\n",
       "<style scoped>\n",
       "    .dataframe tbody tr th:only-of-type {\n",
       "        vertical-align: middle;\n",
       "    }\n",
       "\n",
       "    .dataframe tbody tr th {\n",
       "        vertical-align: top;\n",
       "    }\n",
       "\n",
       "    .dataframe thead th {\n",
       "        text-align: right;\n",
       "    }\n",
       "</style>\n",
       "<table border=\"1\" class=\"dataframe\">\n",
       "  <thead>\n",
       "    <tr style=\"text-align: right;\">\n",
       "      <th></th>\n",
       "      <th>Unnamed: 0</th>\n",
       "      <th>id</th>\n",
       "      <th>text</th>\n",
       "      <th>created_at</th>\n",
       "      <th>author_id</th>\n",
       "      <th>retweet_count</th>\n",
       "      <th>reply_count</th>\n",
       "      <th>like_count</th>\n",
       "      <th>quote_count</th>\n",
       "      <th>withheld</th>\n",
       "      <th>Sentiment</th>\n",
       "      <th>cleaned_tweet</th>\n",
       "    </tr>\n",
       "  </thead>\n",
       "  <tbody>\n",
       "    <tr>\n",
       "      <th>0</th>\n",
       "      <td>0</td>\n",
       "      <td>1507404536511565825</td>\n",
       "      <td>RT @AtedoPeterside: Nobody \"says\" it better than our GoAmbassador @mrmacaronii. Take matters into your own hands by acquiring your PVC now.…</td>\n",
       "      <td>2022-03-25T17:10:22.000Z</td>\n",
       "      <td>1220591726731124736</td>\n",
       "      <td>24</td>\n",
       "      <td>0</td>\n",
       "      <td>0</td>\n",
       "      <td>0</td>\n",
       "      <td>NaN</td>\n",
       "      <td>Positive</td>\n",
       "      <td>nobody say better goambassador mrmacaronii take matter hand acquiring pvc</td>\n",
       "    </tr>\n",
       "    <tr>\n",
       "      <th>1</th>\n",
       "      <td>1</td>\n",
       "      <td>1507403883924103170</td>\n",
       "      <td>RT @1dernet: Getting Our PVC And Registering To Vote Come 2023 Is The Nonviolent Part To Take.\\n#GetYourPVC \\n@DeleFarotimi \\n@Tsngcampaign ht…</td>\n",
       "      <td>2022-03-25T17:07:46.000Z</td>\n",
       "      <td>1169272207014543360</td>\n",
       "      <td>19</td>\n",
       "      <td>0</td>\n",
       "      <td>0</td>\n",
       "      <td>0</td>\n",
       "      <td>NaN</td>\n",
       "      <td>Neutral</td>\n",
       "      <td>getting pvc registering vote come nonviolent part take delefarotimi tsngcampaign ht</td>\n",
       "    </tr>\n",
       "    <tr>\n",
       "      <th>2</th>\n",
       "      <td>2</td>\n",
       "      <td>1507403359040544775</td>\n",
       "      <td>RT @Chude__: Hear what late Dora Akunyeli said about Peter Obi.. \\n\\n#GetYourPVC\\n#Competense2023\\n#peterObi2023 https://t.co/L0u1FqY4dB</td>\n",
       "      <td>2022-03-25T17:05:41.000Z</td>\n",
       "      <td>1387165423083433985</td>\n",
       "      <td>72</td>\n",
       "      <td>0</td>\n",
       "      <td>0</td>\n",
       "      <td>0</td>\n",
       "      <td>NaN</td>\n",
       "      <td>Neutral</td>\n",
       "      <td>hear late dora akunyeli said peter obi</td>\n",
       "    </tr>\n",
       "  </tbody>\n",
       "</table>\n",
       "</div>"
      ],
      "text/plain": [
       "   Unnamed: 0                   id  \\\n",
       "0           0  1507404536511565825   \n",
       "1           1  1507403883924103170   \n",
       "2           2  1507403359040544775   \n",
       "\n",
       "                                                                                                                                              text  \\\n",
       "0     RT @AtedoPeterside: Nobody \"says\" it better than our GoAmbassador @mrmacaronii. Take matters into your own hands by acquiring your PVC now.…   \n",
       "1  RT @1dernet: Getting Our PVC And Registering To Vote Come 2023 Is The Nonviolent Part To Take.\\n#GetYourPVC \\n@DeleFarotimi \\n@Tsngcampaign ht…   \n",
       "2         RT @Chude__: Hear what late Dora Akunyeli said about Peter Obi.. \\n\\n#GetYourPVC\\n#Competense2023\\n#peterObi2023 https://t.co/L0u1FqY4dB   \n",
       "\n",
       "                 created_at            author_id  retweet_count  reply_count  \\\n",
       "0  2022-03-25T17:10:22.000Z  1220591726731124736             24            0   \n",
       "1  2022-03-25T17:07:46.000Z  1169272207014543360             19            0   \n",
       "2  2022-03-25T17:05:41.000Z  1387165423083433985             72            0   \n",
       "\n",
       "   like_count  quote_count withheld Sentiment  \\\n",
       "0           0            0      NaN  Positive   \n",
       "1           0            0      NaN   Neutral   \n",
       "2           0            0      NaN   Neutral   \n",
       "\n",
       "                                                                         cleaned_tweet  \n",
       "0            nobody say better goambassador mrmacaronii take matter hand acquiring pvc  \n",
       "1  getting pvc registering vote come nonviolent part take delefarotimi tsngcampaign ht  \n",
       "2                                               hear late dora akunyeli said peter obi  "
      ]
     },
     "execution_count": 11,
     "metadata": {},
     "output_type": "execute_result"
    }
   ],
   "source": [
    "df.head (3)"
   ]
  },
  {
   "cell_type": "code",
   "execution_count": 19,
   "metadata": {},
   "outputs": [],
   "source": [
    "df   = df [[len (i.split (\" \")) >= 5 for i in df.cleaned_tweet]] \n",
    "data = df['cleaned_tweet']"
   ]
  },
  {
   "cell_type": "code",
   "execution_count": 20,
   "metadata": {},
   "outputs": [
    {
     "data": {
      "text/plain": [
       "(18301, 12)"
      ]
     },
     "execution_count": 20,
     "metadata": {},
     "output_type": "execute_result"
    }
   ],
   "source": [
    "df.shape"
   ]
  },
  {
   "cell_type": "code",
   "execution_count": null,
   "metadata": {},
   "outputs": [],
   "source": [
    "df [['Sentiment', 'cleaned_tweet']].to_excel ('../Data/preprocessed/NG_ELECTION_TWEETS_CLEANED.xlsx',index=False)"
   ]
  },
  {
   "cell_type": "code",
   "execution_count": 15,
   "metadata": {},
   "outputs": [],
   "source": [
    "df [['Sentiment', 'text']].to_excel ('../Data/preprocessed/NG_ELECTION_TWEETS_LABELLED.xlsx', index=False)"
   ]
  }
 ],
 "metadata": {
  "interpreter": {
   "hash": "f571141c76525133f3e4c7bf9d670f19b99725fb293016e32e1a5a61960e7f7e"
  },
  "kernelspec": {
   "display_name": "Python 3.9.10 ('base')",
   "language": "python",
   "name": "python3"
  },
  "language_info": {
   "codemirror_mode": {
    "name": "ipython",
    "version": 3
   },
   "file_extension": ".py",
   "mimetype": "text/x-python",
   "name": "python",
   "nbconvert_exporter": "python",
   "pygments_lexer": "ipython3",
   "version": "3.9.12"
  },
  "orig_nbformat": 4
 },
 "nbformat": 4,
 "nbformat_minor": 2
}
