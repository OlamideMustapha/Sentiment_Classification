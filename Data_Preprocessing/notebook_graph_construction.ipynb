{
 "cells": [
  {
   "cell_type": "code",
   "execution_count": 1,
   "metadata": {},
   "outputs": [],
   "source": [
    "## Building Graph Adjacency Matrix\n",
    "# !pip3 install neo4j\n",
    "# !pip3 install py2neo"
   ]
  },
  {
   "cell_type": "code",
   "execution_count": 2,
   "metadata": {},
   "outputs": [],
   "source": [
    "from IPython.display import display\n",
    "\n",
    "import pandas as pd\n",
    "import numpy as np\n",
    "\n",
    "from tensorflow.keras.preprocessing.text import Tokenizer, one_hot\n",
    "\n",
    "## NEO4J\n",
    "from neo4j import GraphDatabase, basic_auth\n",
    "from graphdatascience import GraphDataScience\n",
    "from tqdm import tqdm\n",
    "\n",
    "from py2neo import Graph, Node, Relationship\n",
    "\n",
    "pd.set_option ('display.max_colwidth', None)\n",
    "pd.set_option ('display.max_columns', None)"
   ]
  },
  {
   "cell_type": "code",
   "execution_count": 3,
   "metadata": {},
   "outputs": [],
   "source": [
    "driver = GraphDatabase.driver(\n",
    "  \"bolt://localhost:7687\",\n",
    "  auth=basic_auth(\"neo4j\", password=\"12345\"))\n",
    "\n",
    "\n",
    "gds = GraphDataScience(\n",
    "    \"bolt://localhost:7687\",\n",
    "    auth=(\"neo4j\", \"12345\"),\n",
    "    # aura_ds=True\n",
    ")"
   ]
  },
  {
   "cell_type": "code",
   "execution_count": 4,
   "metadata": {},
   "outputs": [
    {
     "data": {
      "text/html": [
       "<div>\n",
       "<style scoped>\n",
       "    .dataframe tbody tr th:only-of-type {\n",
       "        vertical-align: middle;\n",
       "    }\n",
       "\n",
       "    .dataframe tbody tr th {\n",
       "        vertical-align: top;\n",
       "    }\n",
       "\n",
       "    .dataframe thead th {\n",
       "        text-align: right;\n",
       "    }\n",
       "</style>\n",
       "<table border=\"1\" class=\"dataframe\">\n",
       "  <thead>\n",
       "    <tr style=\"text-align: right;\">\n",
       "      <th></th>\n",
       "      <th>Sentiment</th>\n",
       "      <th>cleaned_tweet</th>\n",
       "    </tr>\n",
       "  </thead>\n",
       "  <tbody>\n",
       "    <tr>\n",
       "      <th>0</th>\n",
       "      <td>Positive</td>\n",
       "      <td>nobody say better goambassador mrmacaronii take matter hand acquiring pvc</td>\n",
       "    </tr>\n",
       "    <tr>\n",
       "      <th>1</th>\n",
       "      <td>Neutral</td>\n",
       "      <td>getting pvc registering vote come nonviolent part take delefarotimi tsngcampaign ht</td>\n",
       "    </tr>\n",
       "  </tbody>\n",
       "</table>\n",
       "</div>"
      ],
      "text/plain": [
       "  Sentiment  \\\n",
       "0  Positive   \n",
       "1   Neutral   \n",
       "\n",
       "                                                                         cleaned_tweet  \n",
       "0            nobody say better goambassador mrmacaronii take matter hand acquiring pvc  \n",
       "1  getting pvc registering vote come nonviolent part take delefarotimi tsngcampaign ht  "
      ]
     },
     "execution_count": 4,
     "metadata": {},
     "output_type": "execute_result"
    }
   ],
   "source": [
    "tweet_df = pd.read_excel (\"../Data/preprocessed/NG_ELECTION_TWEETS_CLEANED.xlsx\")\n",
    "tweet_df.head (2)"
   ]
  },
  {
   "cell_type": "code",
   "execution_count": 5,
   "metadata": {},
   "outputs": [
    {
     "data": {
      "text/plain": [
       "(18301, 2)"
      ]
     },
     "execution_count": 5,
     "metadata": {},
     "output_type": "execute_result"
    }
   ],
   "source": [
    "tweet_df.shape "
   ]
  },
  {
   "cell_type": "code",
   "execution_count": 6,
   "metadata": {},
   "outputs": [],
   "source": [
    "vocab = set ()\n",
    "X = tweet_df.drop ('Sentiment', axis=1)\n",
    "for x, y in tqdm (X.iterrows (), total=X.shape[0], colour='black'):\n",
    "  vocab = vocab.union (set (y.values[0].split (' ')))\n",
    "\n",
    "\n",
    "vocab_size = len (vocab)"
   ]
  },
  {
   "cell_type": "code",
   "execution_count": 7,
   "metadata": {},
   "outputs": [],
   "source": [
    "tweets = tweet_df.cleaned_tweet\n",
    "\n",
    "tokenizer = Tokenizer (num_words=vocab_size, oov_token= ' ')\n",
    "tokenizer.fit_on_texts (X['cleaned_tweet'].values)\n",
    "\n",
    "X = tokenizer.texts_to_sequences (X['cleaned_tweet'].values)\n",
    "word_index = tokenizer.word_index"
   ]
  },
  {
   "cell_type": "code",
   "execution_count": 9,
   "metadata": {},
   "outputs": [
    {
     "data": {
      "text/plain": [
       "(18301, 2)"
      ]
     },
     "execution_count": 9,
     "metadata": {},
     "output_type": "execute_result"
    }
   ],
   "source": [
    "tweet_df.shape "
   ]
  },
  {
   "cell_type": "markdown",
   "metadata": {},
   "source": [
    "<center>\n",
    " <img src='../Images/graph_adjacency_model.svg', width=50%>\n",
    "</center>"
   ]
  },
  {
   "cell_type": "code",
   "execution_count": 11,
   "metadata": {},
   "outputs": [],
   "source": [
    "# # pip3 install neo4j-driver\n",
    "# # python3 example.py\n",
    "cypher_query = '''\n",
    "MERGE (n:Word {name:$word_1, word_index:$word_index_1})\n",
    "  ON CREATE SET n.count = 1\n",
    "  ON MATCH SET n.count = n.count + 1\n",
    "MERGE (m:Word {name:$word_2, word_index:$word_index_2})\n",
    "  ON CREATE SET m.count = 1\n",
    "  ON MATCH SET m.count = m.count + 1\n",
    "MERGE (n) - [r:NEXT]-> (m)\n",
    "  ON CREATE SET r.count = 1\n",
    "  ON MATCH SET r.count = r.count + 1\n",
    "'''\n",
    "\n",
    "with driver.session (database=\"neo4j\") as session:\n",
    "  for tweet in  tqdm (tweet_df ['cleaned_tweet'], total=tweet_df.shape[0], colour='black'):\n",
    "    words = tweet.split (\" \")\n",
    "    for i in range (len (words)-1):\n",
    "      start = words[i]\n",
    "      end   = words[i + 1]\n",
    "      session.write_transaction (\n",
    "        lambda tx: tx.run (\n",
    "          cypher_query,\n",
    "          parameters={\"word_1\": start, \"word_2\": end, 'word_index_1': word_index [start], 'word_index_2': word_index [end]})\n",
    "        )\n",
    "\n",
    "driver.close()"
   ]
  },
  {
   "cell_type": "code",
   "execution_count": 13,
   "metadata": {},
   "outputs": [],
   "source": [
    "G, res = gds.graph.project(\n",
    "    \"tweets\",\n",
    "    {\"Word\": {\n",
    "      'properties': ['word_index', 'count']\n",
    "    }},\n",
    "    {\"NEXT\": {\n",
    "      'properties': ['count']\n",
    "    }},\n",
    ")"
   ]
  },
  {
   "cell_type": "code",
   "execution_count": 15,
   "metadata": {},
   "outputs": [
    {
     "name": "stdout",
     "output_type": "stream",
     "text": [
      "19811\n",
      "118042\n"
     ]
    }
   ],
   "source": [
    "print (G.node_count ())\n",
    "print (G.relationship_count ())"
   ]
  },
  {
   "cell_type": "markdown",
   "metadata": {},
   "source": [
    "<center>\n",
    "  <img src='../Images/graph_adjacency_img.svg' width=150%>\n",
    "</center>"
   ]
  },
  {
   "cell_type": "code",
   "execution_count": 16,
   "metadata": {},
   "outputs": [
    {
     "data": {
      "text/html": [
       "<div>\n",
       "<style scoped>\n",
       "    .dataframe tbody tr th:only-of-type {\n",
       "        vertical-align: middle;\n",
       "    }\n",
       "\n",
       "    .dataframe tbody tr th {\n",
       "        vertical-align: top;\n",
       "    }\n",
       "\n",
       "    .dataframe thead th {\n",
       "        text-align: right;\n",
       "    }\n",
       "</style>\n",
       "<table border=\"1\" class=\"dataframe\">\n",
       "  <thead>\n",
       "    <tr style=\"text-align: right;\">\n",
       "      <th></th>\n",
       "      <th>nodeId</th>\n",
       "      <th>embedding</th>\n",
       "      <th>name</th>\n",
       "    </tr>\n",
       "  </thead>\n",
       "  <tbody>\n",
       "    <tr>\n",
       "      <th>0</th>\n",
       "      <td>0</td>\n",
       "      <td>[0.0, 0.0, 0.0, 0.0, 0.0, 0.0, 0.0, 0.0, 0.0, 0.0, 0.0, 0.0, 0.0, 0.0, 0.0, 0.0]</td>\n",
       "      <td>whatsa</td>\n",
       "    </tr>\n",
       "    <tr>\n",
       "      <th>1</th>\n",
       "      <td>1</td>\n",
       "      <td>[-1.0598999011790511e-08, -0.28232985734939575, -0.34600189328193665, 0.3079962134361267, 0.07699906080961227, 0.17966444790363312, 0.1283317506313324, 0.48766061663627625, 0.4619942903518677, 0.1283317655324936, -0.47433364391326904, 0.07699904590845108, 0.3849952816963196, 0.1920037865638733, 0.6539981365203857, 0.07699904590845108]</td>\n",
       "      <td>mowe</td>\n",
       "    </tr>\n",
       "    <tr>\n",
       "      <th>2</th>\n",
       "      <td>2</td>\n",
       "      <td>[0.0700836032629013, 0.15865182876586914, 0.2879798710346222, 0.4799431562423706, 0.2856059968471527, 0.04680052399635315, 0.48793864250183105, 0.6623001098632812, 0.8977084159851074, 0.1071426272392273, 0.11407659202814102, 0.039497584104537964, 0.20808245241641998, -0.6317499876022339, 0.13809454441070557, -0.3659849464893341]</td>\n",
       "      <td>ofada</td>\n",
       "    </tr>\n",
       "    <tr>\n",
       "      <th>3</th>\n",
       "      <td>3</td>\n",
       "      <td>[-0.34612521529197693, 0.018053214997053146, -0.2551054060459137, 0.27834922075271606, 0.3592156767845154, 0.04417794942855835, -0.009046375751495361, -0.6046962141990662, 0.3876951336860657, -0.34533682465553284, 0.31133437156677246, -0.07301396131515503, 0.7171489000320435, -0.17626768350601196, 0.11545254290103912, -0.4596334397792816]</td>\n",
       "      <td>survey</td>\n",
       "    </tr>\n",
       "    <tr>\n",
       "      <th>4</th>\n",
       "      <td>4</td>\n",
       "      <td>[-0.4766041040420532, 0.1477653980255127, 0.191990926861763, 0.22356198728084564, 0.32325372099876404, -0.1852354109287262, 0.6941946744918823, 0.33110085129737854, 0.05322249233722687, -1.0251713991165161, -0.0690322145819664, -0.2762591540813446, 0.7484951019287109, -0.2565154433250427, -0.05901751294732094, -0.2995421886444092]</td>\n",
       "      <td>sqm</td>\n",
       "    </tr>\n",
       "  </tbody>\n",
       "</table>\n",
       "</div>"
      ],
      "text/plain": [
       "   nodeId  \\\n",
       "0       0   \n",
       "1       1   \n",
       "2       2   \n",
       "3       3   \n",
       "4       4   \n",
       "\n",
       "                                                                                                                                                                                                                                                                                                                                              embedding  \\\n",
       "0                                                                                                                                                                                                                                                                      [0.0, 0.0, 0.0, 0.0, 0.0, 0.0, 0.0, 0.0, 0.0, 0.0, 0.0, 0.0, 0.0, 0.0, 0.0, 0.0]   \n",
       "1      [-1.0598999011790511e-08, -0.28232985734939575, -0.34600189328193665, 0.3079962134361267, 0.07699906080961227, 0.17966444790363312, 0.1283317506313324, 0.48766061663627625, 0.4619942903518677, 0.1283317655324936, -0.47433364391326904, 0.07699904590845108, 0.3849952816963196, 0.1920037865638733, 0.6539981365203857, 0.07699904590845108]   \n",
       "2            [0.0700836032629013, 0.15865182876586914, 0.2879798710346222, 0.4799431562423706, 0.2856059968471527, 0.04680052399635315, 0.48793864250183105, 0.6623001098632812, 0.8977084159851074, 0.1071426272392273, 0.11407659202814102, 0.039497584104537964, 0.20808245241641998, -0.6317499876022339, 0.13809454441070557, -0.3659849464893341]   \n",
       "3  [-0.34612521529197693, 0.018053214997053146, -0.2551054060459137, 0.27834922075271606, 0.3592156767845154, 0.04417794942855835, -0.009046375751495361, -0.6046962141990662, 0.3876951336860657, -0.34533682465553284, 0.31133437156677246, -0.07301396131515503, 0.7171489000320435, -0.17626768350601196, 0.11545254290103912, -0.4596334397792816]   \n",
       "4          [-0.4766041040420532, 0.1477653980255127, 0.191990926861763, 0.22356198728084564, 0.32325372099876404, -0.1852354109287262, 0.6941946744918823, 0.33110085129737854, 0.05322249233722687, -1.0251713991165161, -0.0690322145819664, -0.2762591540813446, 0.7484951019287109, -0.2565154433250427, -0.05901751294732094, -0.2995421886444092]   \n",
       "\n",
       "     name  \n",
       "0  whatsa  \n",
       "1    mowe  \n",
       "2   ofada  \n",
       "3  survey  \n",
       "4     sqm  "
      ]
     },
     "execution_count": 16,
     "metadata": {},
     "output_type": "execute_result"
    }
   ],
   "source": [
    "G = gds.graph.get(\"tweets\")\n",
    "\n",
    "fastrp_res = gds.fastRP.stream (\n",
    "    G,                          #  Graph object\n",
    "    embeddingDimension= 16,\n",
    "    randomSeed= 42,\n",
    "    relationshipWeightProperty= 'count',\n",
    "    featureProperties= ['word_index', 'count'],\n",
    ")\n",
    "\n",
    "fastrp_res ['name'] = [gds.util.asNode (i).get ('name') for i in fastrp_res.nodeId]\n",
    "fastrp_res.head (5)"
   ]
  },
  {
   "cell_type": "code",
   "execution_count": 17,
   "metadata": {},
   "outputs": [],
   "source": [
    "fastrp_res.to_csv ('../Data/preprocessed/NODE_EMBEDDING.csv', index=False)"
   ]
  },
  {
   "cell_type": "code",
   "execution_count": 18,
   "metadata": {},
   "outputs": [
    {
     "name": "stdout",
     "output_type": "stream",
     "text": [
      "<neo4j.work.result.Result object at 0x104143fa0>\n"
     ]
    }
   ],
   "source": [
    "# key phrase extraction\n",
    "graph = Graph (\"bolt://52.204.57.229:7687\", auth=(\"neo4j\", \"meeting-modes-polisher\"))\n",
    "\n",
    "\n",
    "cypher_query = '''\n",
    "MATCH p = (n:Word) -[:NEXT*1..2]-> (:Word)\n",
    "WITH reduce (x=0, i IN  relationships(p) | x + i.count) AS total, p\n",
    "WITH nodes (p) AS text, 1.0 * total / size (nodes (p)) AS weight, p\n",
    "WITH reduce (x=\"\", i IN Nodes(p) | x + i.name + \" \") AS phrase, weight\n",
    "RETURN phrase, weight ORDER BY weight DESC LIMIT 10\n",
    "'''\n",
    "result = graph.run (cypher_query)\n",
    "\n",
    "for x in result:\n",
    "    print (x)\n"
   ]
  }
 ],
 "metadata": {
  "interpreter": {
   "hash": "f571141c76525133f3e4c7bf9d670f19b99725fb293016e32e1a5a61960e7f7e"
  },
  "kernelspec": {
   "display_name": "Python 3.9.10 ('base')",
   "language": "python",
   "name": "python3"
  },
  "language_info": {
   "codemirror_mode": {
    "name": "ipython",
    "version": 3
   },
   "file_extension": ".py",
   "mimetype": "text/x-python",
   "name": "python",
   "nbconvert_exporter": "python",
   "pygments_lexer": "ipython3",
   "version": "3.9.12"
  },
  "orig_nbformat": 4
 },
 "nbformat": 4,
 "nbformat_minor": 2
}
